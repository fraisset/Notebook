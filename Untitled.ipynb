{
 "cells": [
  {
   "cell_type": "markdown",
   "metadata": {},
   "source": [
    "## Stratégie d'investissement simple \n",
    "\n",
    "#### Principe :\n",
    "\n",
    "Si la moyenne mobile 10 jours du cours de l'actif est supérieure à la moyenne mobile 20 jours, on achète, sinon on vend\n",
    "\n",
    "### Implémentation sur la période Janvier 2010 - Juin 2018\n",
    "\n",
    "- On part avec un capital K = 5000 USD, et un portefeuille V vide\n",
    "\n",
    "On constate les moyennes mobiles initiales : \n",
    "\n",
    "#### si la 10j > 20j :\n",
    "- on achète $ X_0 = \\lfloor \\frac{5000}{S_0 } \\rfloor $\n",
    "- le capital est diminué de $X_0*S_0$\n",
    "- le portefeuille vaut $X_0*S_0$\n",
    "\n",
    "###### Puis, au prochain croisement des moyennes mobiles  (date $t_1$):\n",
    "\n",
    "- on vend nos X unités pour un prix de $X_0*S_1$\n",
    "- le capital est augmenté de $X_0*S_1$\n",
    "- le portefeuille est vide \n",
    "- profit de l'opération : $X_0*(S_1 - S_0)$\n",
    "\n",
    "Et on vend à découvert $X_1$ unité d'actif, avec $ X_1 = \\lfloor \\frac{5000}{S_1 } \\rfloor $ :\n",
    "\n",
    "- le capital est augmenté de $X_1*S_1$\n",
    "- le portefeuille vaut $-X_1*S_1$\n",
    "\n",
    "##### À $t_2$, recroisement des moyennes mobiles (10j > 20j):\n",
    "\n",
    "- on rachète les $X_1$ unités pour un coût de $X_1*S_2$\n",
    "- le capital est diminué de $X_1*S_2$\n",
    "- portefeuille vide, profit $X_1*(S_1 - S_2)$\n",
    "\n",
    "Puis on reprend une position longue...\n",
    "\n"
   ]
  },
  {
   "cell_type": "code",
   "execution_count": 1,
   "metadata": {
    "collapsed": true
   },
   "outputs": [],
   "source": [
    "from math import*\n",
    "import numpy as np\n",
    "import matplotlib.pyplot as plt\n",
    "import pandas as pd\n",
    "\n",
    " \n",
    "def test_strat(ticker,start,K,end):\n",
    "    \n",
    "    if end < start :\n",
    "        return ('Date de départ ultérieure à date de fin' )\n",
    "    \n",
    "    else : \n",
    "        \n",
    "        dataf = pd.read_csv(r'http://hilpisch.com/tr_eikon_eod_data.csv')[ticker]\n",
    "        df = dataf.dropna()\n",
    "        delta_ma = df.rolling(10).mean()-df.rolling(20).mean()       #creating 10days minus 20days simple moving average dataframe of the asset \n",
    "        V = 0 #portfolio,  #K = capital (nominal)\n",
    "        pos = ''\n",
    "        pnl = 0\n",
    "        ##### initialisation #####\n",
    "        \n",
    "        if delta_ma.iloc[start] >= 0 :      #long X units\n",
    "            X = floor(K/df.iloc[start])     #number of units \n",
    "            K = K - X*df.iloc[start]        #capital \n",
    "            V = X*df.iloc[start]            #portfolio value\n",
    "            pos = 'long'                    #position type\n",
    "       \n",
    "        elif delta_ma.iloc[start] <0 :                                              #short \n",
    "            X = floor(K/df.iloc[start])                     \n",
    "            K = K + X*df.iloc[start]\n",
    "            V = - X*df.iloc[start]\n",
    "            pos = 'short'\n",
    "           \n",
    "        t = start\n",
    "        d = t\n",
    "    \n",
    "        #dates ultérieures \n",
    "        \n",
    "        while d < end :\n",
    "            if pos == 'long' :\n",
    "                while delta_ma.iloc[t] >= 0 and t < end:\n",
    "                    t += 1\n",
    "                if delta_ma.iloc[t] < 0 :\n",
    "                    K = K + X*df.iloc[t]             #close long positions\n",
    "                    pnl = pnl + X*df.iloc[t] - V\n",
    "                    V = 0                            #portfolio has no value \n",
    "                    X = floor(K/df.iloc[t])          #new X depending on K and asset price at time t \n",
    "                    K = K + X*df.iloc[t]             #shorting X units --> cash entry added to K\n",
    "                    V = -X*df.iloc[t]                #new porfolio value\n",
    "                    pos = 'short'                    #we are now short X units \n",
    "        \n",
    "            elif pos == 'short' :               \n",
    "                while delta_ma.iloc[t] < 0 and t < end:\n",
    "                    t += 1 \n",
    "                if delta_ma.iloc[t] >= 0 :\n",
    "                    K = K - X*df.iloc[t]            #close short position i.e. buy back X units of the asset \n",
    "                    pnl = pnl - V - X*df.iloc[t]\n",
    "                    V = 0                           #portfolio has no value\n",
    "                    X = floor(K/df.iloc[t])         #new X \n",
    "                    K = K - X*df.iloc[t]            #buying X units \n",
    "                    V = X*df.iloc[t]                #new portfolio \n",
    "                    pos = 'long'                    #now long X units\n",
    "            d = t \n",
    "    return(K,V,X,pos,pnl)"
   ]
  },
  {
   "cell_type": "code",
   "execution_count": 4,
   "metadata": {},
   "outputs": [
    {
     "data": {
      "text/plain": [
       "(19069.756947567999, -9518.8500000000004, 55, 'short', 4550.9069475679917)"
      ]
     },
     "execution_count": 4,
     "metadata": {},
     "output_type": "execute_result"
    }
   ],
   "source": [
    "test_strat('AAPL.O',21,5000,2000)"
   ]
  },
  {
   "cell_type": "code",
   "execution_count": 8,
   "metadata": {},
   "outputs": [
    {
     "data": {
      "text/plain": [
       "(492.18480000000091, 3948.8000000000002, 4, 'long', -559.01519999999982)"
      ]
     },
     "execution_count": 8,
     "metadata": {},
     "output_type": "execute_result"
    }
   ],
   "source": [
    "test_strat('AMZN.O',21,5000,2000)"
   ]
  },
  {
   "cell_type": "code",
   "execution_count": 9,
   "metadata": {},
   "outputs": [
    {
     "data": {
      "text/plain": [
       "(0.71989999999095744, 4036.2489999999998, 3370, 'long', -963.03110000000879)"
      ]
     },
     "execution_count": 9,
     "metadata": {},
     "output_type": "execute_result"
    }
   ],
   "source": [
    "test_strat('EUR=',21,5000,2000)"
   ]
  },
  {
   "cell_type": "markdown",
   "metadata": {},
   "source": [
    "#### Tracé des profits en fonction du temps :"
   ]
  },
  {
   "cell_type": "code",
   "execution_count": 10,
   "metadata": {
    "collapsed": true
   },
   "outputs": [],
   "source": [
    "def trace_result(ticker,end):\n",
    "    pnl = [0]\n",
    "    for i in range(22,end):\n",
    "        pnl.append(test_strat(ticker,21,5000,i)[4])\n",
    "    dates = [j for j in range(21,end)]\n",
    "    plt.plot(dates,pnl,label = 'Realized P&L ')\n",
    "    plt.legend()\n",
    "    plt.show()"
   ]
  },
  {
   "cell_type": "code",
   "execution_count": null,
   "metadata": {},
   "outputs": [],
   "source": [
    "trace_result('AAPL.O',1500)"
   ]
  },
  {
   "cell_type": "code",
   "execution_count": null,
   "metadata": {
    "collapsed": true
   },
   "outputs": [],
   "source": []
  }
 ],
 "metadata": {
  "kernelspec": {
   "display_name": "Python 3",
   "language": "python",
   "name": "python3"
  },
  "language_info": {
   "codemirror_mode": {
    "name": "ipython",
    "version": 3
   },
   "file_extension": ".py",
   "mimetype": "text/x-python",
   "name": "python",
   "nbconvert_exporter": "python",
   "pygments_lexer": "ipython3",
   "version": "3.6.3"
  }
 },
 "nbformat": 4,
 "nbformat_minor": 2
}
